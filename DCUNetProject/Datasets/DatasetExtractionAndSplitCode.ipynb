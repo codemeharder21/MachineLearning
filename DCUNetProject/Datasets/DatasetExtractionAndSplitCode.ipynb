{
  "metadata": {
    "colab": {
      "provenance": [],
      "name": "DCUNetTensorflow2",
      "include_colab_link": true
    },
    "kernelspec": {
      "name": "python3",
      "display_name": "Python 3",
      "language": "python"
    },
    "language_info": {
      "name": "python",
      "version": "3.10.13",
      "mimetype": "text/x-python",
      "codemirror_mode": {
        "name": "ipython",
        "version": 3
      },
      "pygments_lexer": "ipython3",
      "nbconvert_exporter": "python",
      "file_extension": ".py"
    },
    "kaggle": {
      "accelerator": "nvidiaTeslaT4",
      "dataSources": [
        {
          "sourceId": 2048184,
          "sourceType": "datasetVersion",
          "datasetId": 1226991
        },
        {
          "sourceId": 7490105,
          "sourceType": "datasetVersion",
          "datasetId": 4360826
        }
      ],
      "dockerImageVersionId": 30646,
      "isInternetEnabled": true,
      "language": "python",
      "sourceType": "notebook",
      "isGpuEnabled": true
    }
  },
  "nbformat_minor": 0,
  "nbformat": 4,
  "cells": [
    {
      "cell_type": "markdown",
      "metadata": {
        "id": "view-in-github",
        "colab_type": "text"
      },
      "source": [
        "<a href=\"https://colab.research.google.com/github/codemeharder21/MachineLearning/blob/main/DCUNetProject/Datasets/DatasetExtractionAndSplitCode.ipynb\" target=\"_parent\"><img src=\"https://colab.research.google.com/assets/colab-badge.svg\" alt=\"Open In Colab\"/></a>"
      ]
    },
    {
      "source": [
        "\n",
        "# IMPORTANT: RUN THIS CELL IN ORDER TO IMPORT YOUR KAGGLE DATA SOURCES\n",
        "# TO THE CORRECT LOCATION (/kaggle/input) IN YOUR NOTEBOOK,\n",
        "# THEN FEEL FREE TO DELETE THIS CELL.\n",
        "# NOTE: THIS NOTEBOOK ENVIRONMENT DIFFERS FROM KAGGLE'S PYTHON\n",
        "# ENVIRONMENT SO THERE MAY BE MISSING LIBRARIES USED BY YOUR\n",
        "# NOTEBOOK.\n",
        "\n",
        "import os\n",
        "import sys\n",
        "from tempfile import NamedTemporaryFile\n",
        "from urllib.request import urlopen\n",
        "from urllib.parse import unquote, urlparse\n",
        "from urllib.error import HTTPError\n",
        "from zipfile import ZipFile\n",
        "import tarfile\n",
        "import shutil\n",
        "\n",
        "CHUNK_SIZE = 40960\n",
        "DATA_SOURCE_MAPPING = 'casia-20-image-tampering-detection-dataset:https%3A%2F%2Fstorage.googleapis.com%2Fkaggle-data-sets%2F1226991%2F2048184%2Fbundle%2Farchive.zip%3FX-Goog-Algorithm%3DGOOG4-RSA-SHA256%26X-Goog-Credential%3Dgcp-kaggle-com%2540kaggle-161607.iam.gserviceaccount.com%252F20240220%252Fauto%252Fstorage%252Fgoog4_request%26X-Goog-Date%3D20240220T173520Z%26X-Goog-Expires%3D259200%26X-Goog-SignedHeaders%3Dhost%26X-Goog-Signature%3D2c4616267d2fbb948ba2555dbe8e2b02d473b72cac5e0ca6a9285a2ac483c69e4a71bf40ad940bc1ddb1796bf0053dae751e2d3d1aa476a3aa88bc1fee85f4ebc236285671adca518daef9951e629add9296fd685057429fc40d5310fbd14aae9315515a5ad88bcf908283500b0289f29ae1984f873ebd30328b4358c6b70bb1e3e867c386559833524259d72a0814b8ccbb0607a0ba551e3a094903a526b2e71c57394daaab8670e10fa263c812143902c7edaf1345bbea96a9671e4e0b1402616f2d2988fc45819ee3c9702f270024dd41bb46a2b5ffddbeded5667c2c879c4d6505ea7a569afedd6ed929a5d456b8056d6ca49facec7b90c0d868e1e9753d'\n",
        "\n",
        "KAGGLE_INPUT_PATH='/kaggle/input'\n",
        "KAGGLE_WORKING_PATH='/kaggle/working'\n",
        "KAGGLE_SYMLINK='kaggle'\n",
        "\n",
        "!umount /kaggle/input/ 2> /dev/null\n",
        "shutil.rmtree('/kaggle/input', ignore_errors=True)\n",
        "os.makedirs(KAGGLE_INPUT_PATH, 0o777, exist_ok=True)\n",
        "os.makedirs(KAGGLE_WORKING_PATH, 0o777, exist_ok=True)\n",
        "\n",
        "try:\n",
        "  os.symlink(KAGGLE_INPUT_PATH, os.path.join(\"..\", 'input'), target_is_directory=True)\n",
        "except FileExistsError:\n",
        "  pass\n",
        "try:\n",
        "  os.symlink(KAGGLE_WORKING_PATH, os.path.join(\"..\", 'working'), target_is_directory=True)\n",
        "except FileExistsError:\n",
        "  pass\n",
        "\n",
        "for data_source_mapping in DATA_SOURCE_MAPPING.split(','):\n",
        "    directory, download_url_encoded = data_source_mapping.split(':')\n",
        "    download_url = unquote(download_url_encoded)\n",
        "    filename = urlparse(download_url).path\n",
        "    destination_path = os.path.join(KAGGLE_INPUT_PATH, directory)\n",
        "    try:\n",
        "        with urlopen(download_url) as fileres, NamedTemporaryFile() as tfile:\n",
        "            total_length = fileres.headers['content-length']\n",
        "            print(f'Downloading {directory}, {total_length} bytes compressed')\n",
        "            dl = 0\n",
        "            data = fileres.read(CHUNK_SIZE)\n",
        "            while len(data) > 0:\n",
        "                dl += len(data)\n",
        "                tfile.write(data)\n",
        "                done = int(50 * dl / int(total_length))\n",
        "                sys.stdout.write(f\"\\r[{'=' * done}{' ' * (50-done)}] {dl} bytes downloaded\")\n",
        "                sys.stdout.flush()\n",
        "                data = fileres.read(CHUNK_SIZE)\n",
        "            if filename.endswith('.zip'):\n",
        "              with ZipFile(tfile) as zfile:\n",
        "                zfile.extractall(destination_path)\n",
        "            else:\n",
        "              with tarfile.open(tfile.name) as tarfile:\n",
        "                tarfile.extractall(destination_path)\n",
        "            print(f'\\nDownloaded and uncompressed: {directory}')\n",
        "    except HTTPError as e:\n",
        "        print(f'Failed to load (likely expired) {download_url} to path {destination_path}')\n",
        "        continue\n",
        "    except OSError as e:\n",
        "        print(f'Failed to load {download_url} to path {destination_path}')\n",
        "        continue\n",
        "\n",
        "print('Data source import complete.')\n"
      ],
      "metadata": {
        "colab": {
          "base_uri": "https://localhost:8080/"
        },
        "id": "-GPxK1XbluB7",
        "outputId": "3e1a21a4-9a4c-4210-952c-84bb3fa15be8"
      },
      "cell_type": "code",
      "outputs": [
        {
          "output_type": "stream",
          "name": "stdout",
          "text": [
            "Downloading casia-20-image-tampering-detection-dataset, 2745530246 bytes compressed\n",
            "[==================================================] 2745530246 bytes downloaded\n",
            "Downloaded and uncompressed: casia-20-image-tampering-detection-dataset\n",
            "Data source import complete.\n"
          ]
        }
      ],
      "execution_count": 1
    },
    {
      "cell_type": "code",
      "source": [
        "# This Python 3 environment comes with many helpful analytics libraries installed\n",
        "# It is defined by the kaggle/python Docker image: https://github.com/kaggle/docker-python\n",
        "# For example, here's several helpful packages to load\n",
        "\n",
        "import numpy as np # linear algebra\n",
        "import pandas as pd # data processing, CSV file I/O (e.g. pd.read_csv)\n",
        "\n",
        "# Input data files are available in the read-only \"../input/\" directory\n",
        "# For example, running this (by clicking run or pressing Shift+Enter) will list all files under the input directory\n",
        "\n",
        "import os\n",
        "for dirname, _, filenames in os.walk('/kaggle/input'):\n",
        "    for filename in filenames:\n",
        "        print(os.path.join(dirname, filename))\n",
        "\n",
        "# You can write up to 20GB to the current directory (/kaggle/working/) that gets preserved as output when you create a version using \"Save & Run All\"\n",
        "# You can also write temporary files to /kaggle/temp/, but they won't be saved outside of the current session"
      ],
      "metadata": {
        "id": "XyVeCJEKamHx",
        "execution": {
          "iopub.status.busy": "2024-02-20T05:28:23.62583Z",
          "iopub.execute_input": "2024-02-20T05:28:23.626516Z",
          "iopub.status.idle": "2024-02-20T05:29:07.355521Z",
          "shell.execute_reply.started": "2024-02-20T05:28:23.626485Z",
          "shell.execute_reply": "2024-02-20T05:29:07.354548Z"
        },
        "collapsed": true,
        "jupyter": {
          "outputs_hidden": true
        },
        "trusted": true
      },
      "execution_count": null,
      "outputs": []
    },
    {
      "cell_type": "code",
      "source": [
        "from PIL import Image,ImageChops,ImageEnhance\n",
        "import cv2"
      ],
      "metadata": {
        "id": "TmGZY9Z3cto_",
        "execution": {
          "iopub.status.busy": "2024-02-20T05:29:07.357002Z",
          "iopub.execute_input": "2024-02-20T05:29:07.357404Z",
          "iopub.status.idle": "2024-02-20T05:29:07.584077Z",
          "shell.execute_reply.started": "2024-02-20T05:29:07.357378Z",
          "shell.execute_reply": "2024-02-20T05:29:07.583091Z"
        },
        "trusted": true
      },
      "execution_count": 2,
      "outputs": []
    },
    {
      "cell_type": "code",
      "source": [
        "import numpy as np\n",
        "# import pandas as pd\n",
        "import matplotlib.pyplot as plt"
      ],
      "metadata": {
        "id": "6fiWt3d5cyDU",
        "execution": {
          "iopub.status.busy": "2024-02-20T05:29:07.585331Z",
          "iopub.execute_input": "2024-02-20T05:29:07.585597Z",
          "iopub.status.idle": "2024-02-20T05:29:07.590237Z",
          "shell.execute_reply.started": "2024-02-20T05:29:07.585574Z",
          "shell.execute_reply": "2024-02-20T05:29:07.589195Z"
        },
        "trusted": true
      },
      "execution_count": 3,
      "outputs": []
    },
    {
      "cell_type": "code",
      "source": [
        "cd ../Validation"
      ],
      "metadata": {
        "id": "9QX1qTNvdoPn",
        "colab": {
          "base_uri": "https://localhost:8080/"
        },
        "outputId": "b346876d-1ccf-46c0-da3f-7bfe5d5872d6"
      },
      "execution_count": 21,
      "outputs": [
        {
          "output_type": "stream",
          "name": "stdout",
          "text": [
            "/kaggle/working/Casia-Image-Tampering-Split-Dataset/Validation\n"
          ]
        }
      ]
    },
    {
      "cell_type": "code",
      "source": [],
      "metadata": {
        "colab": {
          "base_uri": "https://localhost:8080/"
        },
        "id": "3KAMOxOQo14R",
        "outputId": "52fb069c-2dea-4368-fc6d-91e7a70e1597"
      },
      "execution_count": 25,
      "outputs": [
        {
          "output_type": "stream",
          "name": "stdout",
          "text": [
            "[Errno 2] No such file or directory: 'validGt'\n",
            "/kaggle/working/Casia-Image-Tampering-Split-Dataset/Validation\n"
          ]
        }
      ]
    },
    {
      "cell_type": "code",
      "source": [
        "mkdir GroundTruth"
      ],
      "metadata": {
        "id": "RrWH8SWdo1_W"
      },
      "execution_count": 23,
      "outputs": []
    },
    {
      "cell_type": "code",
      "source": [
        "def load_image(path,mask=False):\n",
        "    image = Image.open(path)\n",
        "    image = image.resize((384, 256))\n",
        "\n",
        "    if mask:\n",
        "        image = image.convert('L')\n",
        "    else:\n",
        "        image = image.convert('RGB')\n",
        "\n",
        "    image = np.array(image)\n",
        "    return image"
      ],
      "metadata": {
        "execution": {
          "iopub.status.busy": "2024-02-20T05:29:45.836559Z",
          "iopub.execute_input": "2024-02-20T05:29:45.837339Z",
          "iopub.status.idle": "2024-02-20T05:29:45.843205Z",
          "shell.execute_reply.started": "2024-02-20T05:29:45.837303Z",
          "shell.execute_reply": "2024-02-20T05:29:45.842211Z"
        },
        "trusted": true,
        "id": "GA14Pe1oluCD"
      },
      "execution_count": 4,
      "outputs": []
    },
    {
      "cell_type": "code",
      "source": [
        "myDataLoc='/kaggle/working/Casia-Image-Tampering-Split-Dataset/'\n",
        "trainLoc=os.path.join(myDataLoc,\"Train\")\n",
        "testLoc=os.path.join(myDataLoc,\"Test\")\n",
        "validLoc=os.path.join(myDataLoc,\"Validation\")\n",
        "trainTp=os.path.join(trainLoc,\"Tp\")\n",
        "testTp=os.path.join(testLoc,\"Tp\")\n",
        "validTp=os.path.join(testLoc,\"Tp\")\n",
        "trainGt=os.path.join(trainLoc,\"GroundTruth\")\n",
        "testGt=os.path.join(testLoc,\"GroundTruth\")\n",
        "validGt=os.path.join(validLoc,\"GroundTruth\")"
      ],
      "metadata": {
        "execution": {
          "iopub.status.busy": "2024-02-20T06:03:09.05681Z",
          "iopub.execute_input": "2024-02-20T06:03:09.057477Z",
          "iopub.status.idle": "2024-02-20T06:03:09.064332Z",
          "shell.execute_reply.started": "2024-02-20T06:03:09.057443Z",
          "shell.execute_reply": "2024-02-20T06:03:09.06333Z"
        },
        "trusted": true,
        "id": "2gluI39NluCQ"
      },
      "execution_count": 46,
      "outputs": []
    },
    {
      "cell_type": "code",
      "source": [
        "xFolder='/kaggle/input/casia-20-image-tampering-detection-dataset/CASIA2/Tp'\n",
        "yFolder='/kaggle/input/casia-20-image-tampering-detection-dataset/CASIA2/CASIA 2 Groundtruth'\n",
        "xTrain=[]\n",
        "yTrain=[]\n",
        "count =1\n",
        "c=0\n",
        "for fl in os.listdir(xFolder):\n",
        "    try:\n",
        "        imageID=os.path.basename(fl).split('.')[0]\n",
        "        maskLoc=os.path.join(yFolder,f'{imageID}_gt.png')\n",
        "        imageLoc=os.path.join(xFolder,fl)\n",
        "        image=load_image(imageLoc)\n",
        "        mask=load_image(maskLoc,True)\n",
        "        # count+=1\n",
        "        xTrain.append(image)\n",
        "        yTrain.append(mask)\n",
        "        # count+=1\n",
        "        if count<3488:\n",
        "            shutil.copy(imageLoc,trainTp)\n",
        "            shutil.copy(maskLoc,trainGt)\n",
        "        elif count<3986:\n",
        "            shutil.copy(imageLoc,validTp)\n",
        "            shutil.copy(maskLoc,validGt)\n",
        "        else:\n",
        "            shutil.copy(imageLoc,testTp)\n",
        "            shutil.copy(maskLoc,testGt)\n",
        "        count+=1\n",
        "#         print(\"end\")\n",
        "    except:\n",
        "        c+=1\n",
        "        continue\n",
        "print(count)\n",
        "print(c)\n",
        "xTrain=np.array(xTrain)\n",
        "yTrain=np.array(yTrain)"
      ],
      "metadata": {
        "id": "qLSofWt7a8Ih",
        "outputId": "8b5b3ab8-7051-4240-8498-e32ef86e1ae9",
        "execution": {
          "iopub.status.busy": "2024-02-20T06:03:50.282753Z",
          "iopub.execute_input": "2024-02-20T06:03:50.283678Z",
          "iopub.status.idle": "2024-02-20T06:04:54.394766Z",
          "shell.execute_reply.started": "2024-02-20T06:03:50.283638Z",
          "shell.execute_reply": "2024-02-20T06:04:54.39376Z"
        },
        "trusted": true,
        "colab": {
          "base_uri": "https://localhost:8080/"
        }
      },
      "execution_count": 47,
      "outputs": [
        {
          "output_type": "stream",
          "name": "stdout",
          "text": [
            "4982\n",
            "144\n"
          ]
        }
      ]
    },
    {
      "cell_type": "code",
      "source": [
        "shutil.make_archive(\"Casia 2.0 Tampered Dataset\", 'zip', myDataLoc)"
      ],
      "metadata": {
        "execution": {
          "iopub.status.busy": "2024-02-20T06:08:27.359655Z",
          "iopub.execute_input": "2024-02-20T06:08:27.360524Z",
          "iopub.status.idle": "2024-02-20T06:10:53.372644Z",
          "shell.execute_reply.started": "2024-02-20T06:08:27.360493Z",
          "shell.execute_reply": "2024-02-20T06:10:53.371555Z"
        },
        "trusted": true,
        "colab": {
          "base_uri": "https://localhost:8080/",
          "height": 35
        },
        "id": "B1boDgQFluCQ",
        "outputId": "7ac0e0ad-b8dd-4b40-e25d-69d057940a0d"
      },
      "execution_count": 48,
      "outputs": [
        {
          "output_type": "execute_result",
          "data": {
            "text/plain": [
              "'/kaggle/working/Casia 2.0 Tampered Dataset.zip'"
            ],
            "application/vnd.google.colaboratory.intrinsic+json": {
              "type": "string"
            }
          },
          "metadata": {},
          "execution_count": 48
        }
      ]
    },
    {
      "cell_type": "code",
      "source": [
        "import shutil"
      ],
      "metadata": {
        "execution": {
          "iopub.status.busy": "2024-02-20T07:17:47.622356Z",
          "iopub.execute_input": "2024-02-20T07:17:47.622732Z",
          "iopub.status.idle": "2024-02-20T07:17:47.634286Z",
          "shell.execute_reply.started": "2024-02-20T07:17:47.622701Z",
          "shell.execute_reply": "2024-02-20T07:17:47.633374Z"
        },
        "trusted": true,
        "id": "0mai_2WTluCR"
      },
      "execution_count": 34,
      "outputs": []
    },
    {
      "cell_type": "code",
      "source": [
        "shutil.copy(os.path.join(xFolder,''), '/kaggle/working/MyF/')"
      ],
      "metadata": {
        "execution": {
          "iopub.status.busy": "2024-02-20T05:52:33.23566Z",
          "iopub.execute_input": "2024-02-20T05:52:33.236052Z",
          "iopub.status.idle": "2024-02-20T05:52:33.246138Z",
          "shell.execute_reply.started": "2024-02-20T05:52:33.236026Z",
          "shell.execute_reply": "2024-02-20T05:52:33.245144Z"
        },
        "trusted": true,
        "colab": {
          "base_uri": "https://localhost:8080/",
          "height": 35
        },
        "id": "nXBXW_rkluCR",
        "outputId": "9c31c0e6-fff0-4bb2-d4ce-7979b01c0902"
      },
      "execution_count": 44,
      "outputs": [
        {
          "output_type": "execute_result",
          "data": {
            "text/plain": [
              "'/kaggle/working/MyF/Tp_D_CND_S_N_txt00028_txt00006_10848.jpg'"
            ],
            "application/vnd.google.colaboratory.intrinsic+json": {
              "type": "string"
            }
          },
          "metadata": {},
          "execution_count": 44
        }
      ]
    },
    {
      "cell_type": "code",
      "source": [
        "mkdir MyF"
      ],
      "metadata": {
        "execution": {
          "iopub.status.busy": "2024-02-20T06:06:10.99009Z",
          "iopub.execute_input": "2024-02-20T06:06:10.990858Z",
          "iopub.status.idle": "2024-02-20T06:06:10.996244Z",
          "shell.execute_reply.started": "2024-02-20T06:06:10.990828Z",
          "shell.execute_reply": "2024-02-20T06:06:10.995186Z"
        },
        "trusted": true,
        "id": "ZtnpGAS9luCR"
      },
      "execution_count": 43,
      "outputs": []
    },
    {
      "cell_type": "markdown",
      "source": [
        "mkdir GroundTruth"
      ],
      "metadata": {
        "execution": {
          "iopub.status.busy": "2024-02-20T05:56:25.010142Z",
          "iopub.execute_input": "2024-02-20T05:56:25.01102Z",
          "iopub.status.idle": "2024-02-20T05:56:26.013053Z",
          "shell.execute_reply.started": "2024-02-20T05:56:25.010975Z",
          "shell.execute_reply": "2024-02-20T05:56:26.011869Z"
        },
        "id": "kviESF3kluCR"
      }
    },
    {
      "cell_type": "code",
      "source": [
        "cd .."
      ],
      "metadata": {
        "colab": {
          "base_uri": "https://localhost:8080/"
        },
        "id": "sSk2EVsapWVp",
        "outputId": "ed800e7c-e325-4386-ae3d-b2e6d601e441"
      },
      "execution_count": 29,
      "outputs": [
        {
          "output_type": "stream",
          "name": "stdout",
          "text": [
            "/kaggle/working\n"
          ]
        }
      ]
    },
    {
      "cell_type": "code",
      "source": [],
      "metadata": {
        "id": "bJvMxkR7pW1q"
      },
      "execution_count": null,
      "outputs": []
    }
  ]
}